{
  "nbformat": 4,
  "nbformat_minor": 0,
  "metadata": {
    "colab": {
      "name": "Docx to PDF Conversion Module.ipynb",
      "provenance": [],
      "authorship_tag": "ABX9TyMHQMxdzDQsjxJ2iJg829pA",
      "include_colab_link": true
    },
    "kernelspec": {
      "name": "python3",
      "display_name": "Python 3"
    }
  },
  "cells": [
    {
      "cell_type": "markdown",
      "metadata": {
        "id": "view-in-github",
        "colab_type": "text"
      },
      "source": [
        "<a href=\"https://colab.research.google.com/github/abhishekmusik/PythonExamples/blob/main/Docx_to_PDF_Conversion_Module.ipynb\" target=\"_parent\"><img src=\"https://colab.research.google.com/assets/colab-badge.svg\" alt=\"Open In Colab\"/></a>"
      ]
    },
    {
      "cell_type": "code",
      "metadata": {
        "id": "Mqt1WJQ2BWab"
      },
      "source": [
        "#Description: This program convert docx to pdf"
      ],
      "execution_count": null,
      "outputs": []
    },
    {
      "cell_type": "code",
      "metadata": {
        "colab": {
          "base_uri": "https://localhost:8080/"
        },
        "id": "fnesbPSWBib3",
        "outputId": "d97d30b0-e0f7-4be3-b071-7fe9ae46e365"
      },
      "source": [
        "pip install docx2pdf\r\n"
      ],
      "execution_count": null,
      "outputs": [
        {
          "output_type": "stream",
          "text": [
            "Requirement already satisfied: docx2pdf in /usr/local/lib/python3.7/dist-packages (0.1.7)\n",
            "Requirement already satisfied: tqdm<5.0.0,>=4.41.0 in /usr/local/lib/python3.7/dist-packages (from docx2pdf) (4.41.1)\n",
            "Requirement already satisfied: importlib_metadata<2.0.0,>=1.3.0; python_version < \"3.8\" in /usr/local/lib/python3.7/dist-packages (from docx2pdf) (1.7.0)\n",
            "Requirement already satisfied: zipp>=0.5 in /usr/local/lib/python3.7/dist-packages (from importlib_metadata<2.0.0,>=1.3.0; python_version < \"3.8\"->docx2pdf) (3.4.1)\n"
          ],
          "name": "stdout"
        }
      ]
    },
    {
      "cell_type": "code",
      "metadata": {
        "id": "JMyIntq8Bziw"
      },
      "source": [
        "#Import the convert method from docx2pdf module\r\n",
        "from docx2pdf import convert"
      ],
      "execution_count": null,
      "outputs": []
    },
    {
      "cell_type": "code",
      "metadata": {
        "colab": {
          "base_uri": "https://localhost:8080/",
          "height": 299
        },
        "id": "usuSl-1JCEmf",
        "outputId": "9e8b0ea7-3130-48f1-f7ef-5934484115ac"
      },
      "source": [
        "#Convert the docx\r\n",
        "convert(\"/contentLorem-ipsum.docx\")"
      ],
      "execution_count": null,
      "outputs": [
        {
          "output_type": "error",
          "ename": "NotImplementedError",
          "evalue": "ignored",
          "traceback": [
            "\u001b[0;31m---------------------------------------------------------------------------\u001b[0m",
            "\u001b[0;31mNotImplementedError\u001b[0m                       Traceback (most recent call last)",
            "\u001b[0;32m<ipython-input-10-574487cb6abd>\u001b[0m in \u001b[0;36m<module>\u001b[0;34m()\u001b[0m\n\u001b[1;32m      1\u001b[0m \u001b[0;31m#Convert the docx\u001b[0m\u001b[0;34m\u001b[0m\u001b[0;34m\u001b[0m\u001b[0;34m\u001b[0m\u001b[0m\n\u001b[0;32m----> 2\u001b[0;31m \u001b[0mconvert\u001b[0m\u001b[0;34m(\u001b[0m\u001b[0;34m\"/content/Lorem-ipsum.docx\"\u001b[0m\u001b[0;34m)\u001b[0m\u001b[0;34m\u001b[0m\u001b[0;34m\u001b[0m\u001b[0m\n\u001b[0m",
            "\u001b[0;32m/usr/local/lib/python3.7/dist-packages/docx2pdf/__init__.py\u001b[0m in \u001b[0;36mconvert\u001b[0;34m(input_path, output_path, keep_active)\u001b[0m\n\u001b[1;32m    107\u001b[0m     \u001b[0;32melse\u001b[0m\u001b[0;34m:\u001b[0m\u001b[0;34m\u001b[0m\u001b[0;34m\u001b[0m\u001b[0m\n\u001b[1;32m    108\u001b[0m         raise NotImplementedError(\n\u001b[0;32m--> 109\u001b[0;31m             \u001b[0;34m\"docx2pdf is not implemented for linux as it requires Microsoft Word to be installed\"\u001b[0m\u001b[0;34m\u001b[0m\u001b[0;34m\u001b[0m\u001b[0m\n\u001b[0m\u001b[1;32m    110\u001b[0m         )\n\u001b[1;32m    111\u001b[0m \u001b[0;34m\u001b[0m\u001b[0m\n",
            "\u001b[0;31mNotImplementedError\u001b[0m: docx2pdf is not implemented for linux as it requires Microsoft Word to be installed"
          ]
        }
      ]
    },
    {
      "cell_type": "code",
      "metadata": {
        "id": "yEvVGnBXDCK-"
      },
      "source": [
        "#Convert docx specifying both the input and output paths\r\n",
        "conver(\"/content/Lorem-ipsum.docx\", \"/content/Lorem-ipsum.pdf\")"
      ],
      "execution_count": null,
      "outputs": []
    }
  ]
}