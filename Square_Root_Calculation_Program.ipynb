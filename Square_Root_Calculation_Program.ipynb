{
  "nbformat": 4,
  "nbformat_minor": 0,
  "metadata": {
    "colab": {
      "name": "Square Root Calculation Program.ipynb",
      "provenance": [],
      "collapsed_sections": [],
      "authorship_tag": "ABX9TyNhwMLLN3p0BDRDlAFWyxdd",
      "include_colab_link": true
    },
    "kernelspec": {
      "name": "python3",
      "display_name": "Python 3"
    }
  },
  "cells": [
    {
      "cell_type": "markdown",
      "metadata": {
        "id": "view-in-github",
        "colab_type": "text"
      },
      "source": [
        "<a href=\"https://colab.research.google.com/github/abhishekmusik/PythonExamples/blob/main/Square_Root_Calculation_Program.ipynb\" target=\"_parent\"><img src=\"https://colab.research.google.com/assets/colab-badge.svg\" alt=\"Open In Colab\"/></a>"
      ]
    },
    {
      "cell_type": "code",
      "metadata": {
        "id": "7CX5hcrp7nnx"
      },
      "source": [
        "#Description: This programe calculate square root using python"
      ],
      "execution_count": null,
      "outputs": []
    },
    {
      "cell_type": "code",
      "metadata": {
        "colab": {
          "base_uri": "https://localhost:8080/"
        },
        "id": "_hU33fSV70zv",
        "outputId": "dee469f1-c5d8-4c49-ba5c-7aa3eef1d438"
      },
      "source": [
        "#Take the input from user\r\n",
        "num = float(input('Enter a number:'))\r\n",
        "\r\n",
        "num_sqrt = num ** 0.5\r\n",
        "print('The square root of %0.3f is %0.3f'%(num, num_sqrt))"
      ],
      "execution_count": 1,
      "outputs": [
        {
          "output_type": "stream",
          "text": [
            "Enter a number:100\n",
            "The square root of 100.000 is 10.000\n"
          ],
          "name": "stdout"
        }
      ]
    }
  ]
}