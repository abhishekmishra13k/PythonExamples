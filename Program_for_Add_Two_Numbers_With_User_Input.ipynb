{
  "nbformat": 4,
  "nbformat_minor": 0,
  "metadata": {
    "colab": {
      "name": "Program for Add Two Numbers With User Input.ipynb",
      "provenance": [],
      "collapsed_sections": [],
      "authorship_tag": "ABX9TyNN81yp1jH6uIqpWoL7yOvs",
      "include_colab_link": true
    },
    "kernelspec": {
      "name": "python3",
      "display_name": "Python 3"
    }
  },
  "cells": [
    {
      "cell_type": "markdown",
      "metadata": {
        "id": "view-in-github",
        "colab_type": "text"
      },
      "source": [
        "<a href=\"https://colab.research.google.com/github/abhishekmusik/PythonExamples/blob/main/Program_for_Add_Two_Numbers_With_User_Input.ipynb\" target=\"_parent\"><img src=\"https://colab.research.google.com/assets/colab-badge.svg\" alt=\"Open In Colab\"/></a>"
      ]
    },
    {
      "cell_type": "code",
      "metadata": {
        "id": "sDdLrKYZ3oL_"
      },
      "source": [
        "#Description: This program add two numbers with user input"
      ],
      "execution_count": 1,
      "outputs": []
    },
    {
      "cell_type": "code",
      "metadata": {
        "id": "WZtbOXz-30_E"
      },
      "source": [
        "#Store input numbers\r\n",
        "num1 = input('Enter first number:')\r\n",
        "num2 = input('Enter second number:')"
      ],
      "execution_count": null,
      "outputs": []
    },
    {
      "cell_type": "code",
      "metadata": {
        "id": "InNlIuWN4Ucf"
      },
      "source": [
        "#Add two numbers\r\n",
        "sum = float(num1) + float(num2)"
      ],
      "execution_count": null,
      "outputs": []
    },
    {
      "cell_type": "code",
      "metadata": {
        "id": "9ulwyxrX4y45"
      },
      "source": [
        "#Display the sum\r\n",
        "print('The sum of {0} and {1} is {2}'.format(num1, num2, sum))"
      ],
      "execution_count": null,
      "outputs": []
    }
  ]
}