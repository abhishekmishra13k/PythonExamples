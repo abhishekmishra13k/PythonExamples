{
  "nbformat": 4,
  "nbformat_minor": 0,
  "metadata": {
    "colab": {
      "name": "Simple Calculator Module.ipynb",
      "provenance": [],
      "collapsed_sections": [],
      "authorship_tag": "ABX9TyM33k+z2CvQn+Wh0EpwX9SN",
      "include_colab_link": true
    },
    "kernelspec": {
      "name": "python3",
      "display_name": "Python 3"
    }
  },
  "cells": [
    {
      "cell_type": "markdown",
      "metadata": {
        "id": "view-in-github",
        "colab_type": "text"
      },
      "source": [
        "<a href=\"https://colab.research.google.com/github/abhishekmusik/PythonExamples/blob/main/Simple_Calculator_Module.ipynb\" target=\"_parent\"><img src=\"https://colab.research.google.com/assets/colab-badge.svg\" alt=\"Open In Colab\"/></a>"
      ]
    },
    {
      "cell_type": "code",
      "metadata": {
        "id": "OzMXcCyfyKjP"
      },
      "source": [
        "#Description: Program to make a simple calculator\r\n",
        "\r\n",
        "# This function adds two numbers\r\n",
        "def add(x, y):\r\n",
        "    return x + y\r\n",
        "\r\n",
        "# This function subtracts two numbers\r\n",
        "def subtract(x, y):\r\n",
        "    return x - y\r\n",
        "\r\n",
        "# This function multiplies two numbers\r\n",
        "def multiply(x, y):\r\n",
        "    return x * y\r\n",
        "\r\n",
        "# This function divides two numbers\r\n",
        "def divide(x, y):\r\n",
        "    return x / y\r\n",
        "\r\n",
        "\r\n",
        "print(\"Select operation.\")\r\n",
        "print(\"1.Add\")\r\n",
        "print(\"2.Subtract\")\r\n",
        "print(\"3.Multiply\")\r\n",
        "print(\"4.Divide\")\r\n",
        "\r\n",
        "while True:\r\n",
        "    # Take input from the user\r\n",
        "    choice = input(\"Enter choice(1/2/3/4): \")\r\n",
        "\r\n",
        "    # Check if choice is one of the four options\r\n",
        "    if choice in ('1', '2', '3', '4'):\r\n",
        "        num1 = float(input(\"Enter first number: \"))\r\n",
        "        num2 = float(input(\"Enter second number: \"))\r\n",
        "\r\n",
        "        if choice == '1':\r\n",
        "            print(num1, \"+\", num2, \"=\", add(num1, num2))\r\n",
        "\r\n",
        "        elif choice == '2':\r\n",
        "            print(num1, \"-\", num2, \"=\", subtract(num1, num2))\r\n",
        "\r\n",
        "        elif choice == '3':\r\n",
        "            print(num1, \"*\", num2, \"=\", multiply(num1, num2))\r\n",
        "\r\n",
        "        elif choice == '4':\r\n",
        "            print(num1, \"/\", num2, \"=\", divide(num1, num2))\r\n",
        "        break\r\n",
        "    else:\r\n",
        "        print(\"Invalid Input\")"
      ],
      "execution_count": null,
      "outputs": []
    }
  ]
}