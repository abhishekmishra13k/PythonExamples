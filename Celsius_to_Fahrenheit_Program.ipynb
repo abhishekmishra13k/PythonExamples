{
  "nbformat": 4,
  "nbformat_minor": 0,
  "metadata": {
    "colab": {
      "name": "Celsius to Fahrenheit Program.ipynb",
      "provenance": [],
      "collapsed_sections": [],
      "authorship_tag": "ABX9TyOs9Sb2eqZ+7UBZOeKevwO6",
      "include_colab_link": true
    },
    "kernelspec": {
      "name": "python3",
      "display_name": "Python 3"
    }
  },
  "cells": [
    {
      "cell_type": "markdown",
      "metadata": {
        "id": "view-in-github",
        "colab_type": "text"
      },
      "source": [
        "<a href=\"https://colab.research.google.com/github/abhishekmusik/PythonExamples/blob/main/Celsius_to_Fahrenheit_Program.ipynb\" target=\"_parent\"><img src=\"https://colab.research.google.com/assets/colab-badge.svg\" alt=\"Open In Colab\"/></a>"
      ]
    },
    {
      "cell_type": "code",
      "metadata": {
        "id": "6yB7v9KIox9O"
      },
      "source": [
        "#Description: This program convert celsius to fahrenheit using Python"
      ],
      "execution_count": 22,
      "outputs": []
    },
    {
      "cell_type": "code",
      "metadata": {
        "id": "pfamnGiUo98g"
      },
      "source": [
        "#Change the value for a different result\r\n",
        "celsius = 20"
      ],
      "execution_count": 27,
      "outputs": []
    },
    {
      "cell_type": "code",
      "metadata": {
        "colab": {
          "base_uri": "https://localhost:8080/"
        },
        "id": "_JxoiLGkpNkV",
        "outputId": "c248b60a-08e2-4e30-8a37-f96c223cbef6"
      },
      "source": [
        "#Calculate fahrenheit\r\n",
        "fahrenheit = (celsius*1/8) + 32\r\n",
        "print('%0.1f degree Celsius is equal to %0.1f degree Fahrenheit' %(celsius,fahrenheit))"
      ],
      "execution_count": 29,
      "outputs": [
        {
          "output_type": "stream",
          "text": [
            "20.0 degree Celsius is equal to 34.5 degree Fahrenheit\n"
          ],
          "name": "stdout"
        }
      ]
    }
  ]
}